{
  "cells": [
    {
      "cell_type": "markdown",
      "metadata": {
        "id": "view-in-github",
        "colab_type": "text"
      },
      "source": [
        "<a href=\"https://colab.research.google.com/github/radster22/Rising_Ocean_temperature_netcdf/blob/main/Sustainibility_Bisht_AradhyaSingh.ipynb\" target=\"_parent\"><img src=\"https://colab.research.google.com/assets/colab-badge.svg\" alt=\"Open In Colab\"/></a>"
      ]
    },
    {
      "cell_type": "code",
      "execution_count": null,
      "metadata": {
        "colab": {
          "base_uri": "https://localhost:8080/"
        },
        "id": "OF_PiayPHyBz",
        "outputId": "0f1624c1-4497-4b26-ff98-0a31c88fb108"
      },
      "outputs": [
        {
          "output_type": "stream",
          "name": "stdout",
          "text": [
            "Requirement already satisfied: copernicusmarine in /usr/local/lib/python3.10/dist-packages (1.1.1)\n",
            "Requirement already satisfied: aiohttp>=3.8.5 in /usr/local/lib/python3.10/dist-packages (from copernicusmarine) (3.9.5)\n",
            "Requirement already satisfied: boto3>=1.25 in /usr/local/lib/python3.10/dist-packages (from copernicusmarine) (1.34.89)\n",
            "Requirement already satisfied: cachier>=2.2.1 in /usr/local/lib/python3.10/dist-packages (from copernicusmarine) (3.0.0)\n",
            "Requirement already satisfied: click>=8.0.4 in /usr/local/lib/python3.10/dist-packages (from copernicusmarine) (8.1.7)\n",
            "Requirement already satisfied: dask>=2022 in /usr/local/lib/python3.10/dist-packages (from copernicusmarine) (2023.8.1)\n",
            "Requirement already satisfied: lxml>=4.9.0 in /usr/local/lib/python3.10/dist-packages (from copernicusmarine) (4.9.4)\n",
            "Requirement already satisfied: nest-asyncio>=1.5.8 in /usr/local/lib/python3.10/dist-packages (from copernicusmarine) (1.6.0)\n",
            "Requirement already satisfied: netCDF4>=1.5.4 in /usr/local/lib/python3.10/dist-packages (from copernicusmarine) (1.6.5)\n",
            "Requirement already satisfied: pystac>=1.8.3 in /usr/local/lib/python3.10/dist-packages (from copernicusmarine) (1.10.0)\n",
            "Requirement already satisfied: requests>=2.27.1 in /usr/local/lib/python3.10/dist-packages (from copernicusmarine) (2.31.0)\n",
            "Requirement already satisfied: semver>=3.0.2 in /usr/local/lib/python3.10/dist-packages (from copernicusmarine) (3.0.2)\n",
            "Requirement already satisfied: setuptools>=68.2.2 in /usr/local/lib/python3.10/dist-packages (from copernicusmarine) (69.5.1)\n",
            "Requirement already satisfied: tqdm>=4.65.0 in /usr/local/lib/python3.10/dist-packages (from copernicusmarine) (4.66.2)\n",
            "Requirement already satisfied: xarray>=2023.4.0 in /usr/local/lib/python3.10/dist-packages (from copernicusmarine) (2023.7.0)\n",
            "Requirement already satisfied: zarr>=2.13.3 in /usr/local/lib/python3.10/dist-packages (from copernicusmarine) (2.17.2)\n",
            "Requirement already satisfied: aiosignal>=1.1.2 in /usr/local/lib/python3.10/dist-packages (from aiohttp>=3.8.5->copernicusmarine) (1.3.1)\n",
            "Requirement already satisfied: attrs>=17.3.0 in /usr/local/lib/python3.10/dist-packages (from aiohttp>=3.8.5->copernicusmarine) (23.2.0)\n",
            "Requirement already satisfied: frozenlist>=1.1.1 in /usr/local/lib/python3.10/dist-packages (from aiohttp>=3.8.5->copernicusmarine) (1.4.1)\n",
            "Requirement already satisfied: multidict<7.0,>=4.5 in /usr/local/lib/python3.10/dist-packages (from aiohttp>=3.8.5->copernicusmarine) (6.0.5)\n",
            "Requirement already satisfied: yarl<2.0,>=1.0 in /usr/local/lib/python3.10/dist-packages (from aiohttp>=3.8.5->copernicusmarine) (1.9.4)\n",
            "Requirement already satisfied: async-timeout<5.0,>=4.0 in /usr/local/lib/python3.10/dist-packages (from aiohttp>=3.8.5->copernicusmarine) (4.0.3)\n",
            "Requirement already satisfied: botocore<1.35.0,>=1.34.89 in /usr/local/lib/python3.10/dist-packages (from boto3>=1.25->copernicusmarine) (1.34.89)\n",
            "Requirement already satisfied: jmespath<2.0.0,>=0.7.1 in /usr/local/lib/python3.10/dist-packages (from boto3>=1.25->copernicusmarine) (1.0.1)\n",
            "Requirement already satisfied: s3transfer<0.11.0,>=0.10.0 in /usr/local/lib/python3.10/dist-packages (from boto3>=1.25->copernicusmarine) (0.10.1)\n",
            "Requirement already satisfied: watchdog>=2.3.1 in /usr/local/lib/python3.10/dist-packages (from cachier>=2.2.1->copernicusmarine) (4.0.0)\n",
            "Requirement already satisfied: portalocker>=2.3.2 in /usr/local/lib/python3.10/dist-packages (from cachier>=2.2.1->copernicusmarine) (2.8.2)\n",
            "Requirement already satisfied: cloudpickle>=1.5.0 in /usr/local/lib/python3.10/dist-packages (from dask>=2022->copernicusmarine) (2.2.1)\n",
            "Requirement already satisfied: fsspec>=2021.09.0 in /usr/local/lib/python3.10/dist-packages (from dask>=2022->copernicusmarine) (2023.6.0)\n",
            "Requirement already satisfied: packaging>=20.0 in /usr/local/lib/python3.10/dist-packages (from dask>=2022->copernicusmarine) (24.0)\n",
            "Requirement already satisfied: partd>=1.2.0 in /usr/local/lib/python3.10/dist-packages (from dask>=2022->copernicusmarine) (1.4.1)\n",
            "Requirement already satisfied: pyyaml>=5.3.1 in /usr/local/lib/python3.10/dist-packages (from dask>=2022->copernicusmarine) (6.0.1)\n",
            "Requirement already satisfied: toolz>=0.10.0 in /usr/local/lib/python3.10/dist-packages (from dask>=2022->copernicusmarine) (0.12.1)\n",
            "Requirement already satisfied: importlib-metadata>=4.13.0 in /usr/local/lib/python3.10/dist-packages (from dask>=2022->copernicusmarine) (7.1.0)\n",
            "Requirement already satisfied: cftime in /usr/local/lib/python3.10/dist-packages (from netCDF4>=1.5.4->copernicusmarine) (1.6.3)\n",
            "Requirement already satisfied: certifi in /usr/local/lib/python3.10/dist-packages (from netCDF4>=1.5.4->copernicusmarine) (2024.2.2)\n",
            "Requirement already satisfied: numpy in /usr/local/lib/python3.10/dist-packages (from netCDF4>=1.5.4->copernicusmarine) (1.25.2)\n",
            "Requirement already satisfied: python-dateutil>=2.7.0 in /usr/local/lib/python3.10/dist-packages (from pystac>=1.8.3->copernicusmarine) (2.8.2)\n",
            "Requirement already satisfied: charset-normalizer<4,>=2 in /usr/local/lib/python3.10/dist-packages (from requests>=2.27.1->copernicusmarine) (3.3.2)\n",
            "Requirement already satisfied: idna<4,>=2.5 in /usr/local/lib/python3.10/dist-packages (from requests>=2.27.1->copernicusmarine) (3.7)\n",
            "Requirement already satisfied: urllib3<3,>=1.21.1 in /usr/local/lib/python3.10/dist-packages (from requests>=2.27.1->copernicusmarine) (2.0.7)\n",
            "Requirement already satisfied: pandas>=1.4 in /usr/local/lib/python3.10/dist-packages (from xarray>=2023.4.0->copernicusmarine) (2.0.3)\n",
            "Requirement already satisfied: asciitree in /usr/local/lib/python3.10/dist-packages (from zarr>=2.13.3->copernicusmarine) (0.3.3)\n",
            "Requirement already satisfied: numcodecs>=0.10.0 in /usr/local/lib/python3.10/dist-packages (from zarr>=2.13.3->copernicusmarine) (0.12.1)\n",
            "Requirement already satisfied: fasteners in /usr/local/lib/python3.10/dist-packages (from zarr>=2.13.3->copernicusmarine) (0.19)\n",
            "Requirement already satisfied: zipp>=0.5 in /usr/local/lib/python3.10/dist-packages (from importlib-metadata>=4.13.0->dask>=2022->copernicusmarine) (3.18.1)\n",
            "Requirement already satisfied: pytz>=2020.1 in /usr/local/lib/python3.10/dist-packages (from pandas>=1.4->xarray>=2023.4.0->copernicusmarine) (2023.4)\n",
            "Requirement already satisfied: tzdata>=2022.1 in /usr/local/lib/python3.10/dist-packages (from pandas>=1.4->xarray>=2023.4.0->copernicusmarine) (2024.1)\n",
            "Requirement already satisfied: locket in /usr/local/lib/python3.10/dist-packages (from partd>=1.2.0->dask>=2022->copernicusmarine) (1.0.0)\n",
            "Requirement already satisfied: six>=1.5 in /usr/local/lib/python3.10/dist-packages (from python-dateutil>=2.7.0->pystac>=1.8.3->copernicusmarine) (1.16.0)\n",
            "Requirement already satisfied: netCDF4 in /usr/local/lib/python3.10/dist-packages (1.6.5)\n",
            "Requirement already satisfied: cftime in /usr/local/lib/python3.10/dist-packages (from netCDF4) (1.6.3)\n",
            "Requirement already satisfied: certifi in /usr/local/lib/python3.10/dist-packages (from netCDF4) (2024.2.2)\n",
            "Requirement already satisfied: numpy in /usr/local/lib/python3.10/dist-packages (from netCDF4) (1.25.2)\n",
            "Collecting cartopy\n",
            "  Using cached Cartopy-0.23.0-cp310-cp310-manylinux_2_17_x86_64.manylinux2014_x86_64.whl (11.6 MB)\n",
            "Requirement already satisfied: numpy>=1.21 in /usr/local/lib/python3.10/dist-packages (from cartopy) (1.25.2)\n",
            "Requirement already satisfied: matplotlib>=3.5 in /usr/local/lib/python3.10/dist-packages (from cartopy) (3.7.1)\n",
            "Requirement already satisfied: shapely>=1.7 in /usr/local/lib/python3.10/dist-packages (from cartopy) (2.0.4)\n",
            "Requirement already satisfied: packaging>=20 in /usr/local/lib/python3.10/dist-packages (from cartopy) (24.0)\n",
            "Requirement already satisfied: pyshp>=2.3 in /usr/local/lib/python3.10/dist-packages (from cartopy) (2.3.1)\n",
            "Requirement already satisfied: pyproj>=3.3.1 in /usr/local/lib/python3.10/dist-packages (from cartopy) (3.6.1)\n",
            "Requirement already satisfied: contourpy>=1.0.1 in /usr/local/lib/python3.10/dist-packages (from matplotlib>=3.5->cartopy) (1.2.1)\n",
            "Requirement already satisfied: cycler>=0.10 in /usr/local/lib/python3.10/dist-packages (from matplotlib>=3.5->cartopy) (0.12.1)\n",
            "Requirement already satisfied: fonttools>=4.22.0 in /usr/local/lib/python3.10/dist-packages (from matplotlib>=3.5->cartopy) (4.51.0)\n",
            "Requirement already satisfied: kiwisolver>=1.0.1 in /usr/local/lib/python3.10/dist-packages (from matplotlib>=3.5->cartopy) (1.4.5)\n",
            "Requirement already satisfied: pillow>=6.2.0 in /usr/local/lib/python3.10/dist-packages (from matplotlib>=3.5->cartopy) (9.4.0)\n",
            "Requirement already satisfied: pyparsing>=2.3.1 in /usr/local/lib/python3.10/dist-packages (from matplotlib>=3.5->cartopy) (3.1.2)\n",
            "Requirement already satisfied: python-dateutil>=2.7 in /usr/local/lib/python3.10/dist-packages (from matplotlib>=3.5->cartopy) (2.8.2)\n",
            "Requirement already satisfied: certifi in /usr/local/lib/python3.10/dist-packages (from pyproj>=3.3.1->cartopy) (2024.2.2)\n",
            "Requirement already satisfied: six>=1.5 in /usr/local/lib/python3.10/dist-packages (from python-dateutil>=2.7->matplotlib>=3.5->cartopy) (1.16.0)\n",
            "Installing collected packages: cartopy\n",
            "Successfully installed cartopy-0.23.0\n"
          ]
        }
      ],
      "source": [
        "!pip install copernicusmarine\n",
        "!pip install netCDF4\n",
        "!pip install cartopy"
      ]
    },
    {
      "cell_type": "code",
      "execution_count": null,
      "metadata": {
        "id": "yvvArQXzZnAW"
      },
      "outputs": [],
      "source": [
        "import netCDF4 as nc\n",
        "from google.colab import drive\n",
        "import matplotlib.pyplot as plt\n",
        "import cartopy.crs as ccrs\n",
        "import numpy as np\n",
        "import pandas as pd\n",
        "import xarray as xr"
      ]
    },
    {
      "cell_type": "code",
      "execution_count": null,
      "metadata": {
        "colab": {
          "base_uri": "https://localhost:8080/",
          "height": 1000,
          "referenced_widgets": [
            "c0cdec270bcc4ae0bc94a36afcf1f7f9",
            "153b703dbb734675b07e809cd60092af",
            "acde9e5094704b5a998fd6618082b4a2",
            "3d2075a54be740d198c6499a84ab81d8",
            "b8fbc5fc6dbd47c8bcc0466e2e8fb69a",
            "20be9b09bee440078b33da3f7f1e93e2",
            "e4ba5152392a41e3a8a654372ad9297f",
            "4ee0f080f8b84b0db9450854d3de959b",
            "43edb2d8366e45cd8bc889ad704e26ac",
            "556d3be1a320480ebcad2f072a8b8bb0",
            "e60c00c397fc44ceaecf5692abb5b90c"
          ]
        },
        "id": "qvzYWlV0rkxl",
        "outputId": "1c6350b3-3571-4bbc-d0a4-4005b5cfc666"
      },
      "outputs": [
        {
          "name": "stdout",
          "output_type": "stream",
          "text": [
            "username: abisht\n",
            "password: ··········\n"
          ]
        },
        {
          "output_type": "stream",
          "name": "stderr",
          "text": [
            "Fetching catalog: 100%|██████████| 3/3 [00:48<00:00, 16.30s/it]\n"
          ]
        },
        {
          "output_type": "stream",
          "name": "stdout",
          "text": [
            "INFO - 2024-04-23T00:35:21Z - You forced selection of dataset version \"202007\"\n"
          ]
        },
        {
          "output_type": "stream",
          "name": "stderr",
          "text": [
            "INFO:copernicus_marine_root_logger:You forced selection of dataset version \"202007\"\n"
          ]
        },
        {
          "output_type": "stream",
          "name": "stdout",
          "text": [
            "INFO - 2024-04-23T00:35:21Z - Dataset part was not specified, the first one was selected: \"default\"\n"
          ]
        },
        {
          "output_type": "stream",
          "name": "stderr",
          "text": [
            "INFO:copernicus_marine_root_logger:Dataset part was not specified, the first one was selected: \"default\"\n"
          ]
        },
        {
          "output_type": "stream",
          "name": "stdout",
          "text": [
            "INFO - 2024-04-23T00:35:25Z - Service was not specified, the default one was selected: \"arco-geo-series\"\n"
          ]
        },
        {
          "output_type": "stream",
          "name": "stderr",
          "text": [
            "INFO:copernicus_marine_root_logger:Service was not specified, the default one was selected: \"arco-geo-series\"\n"
          ]
        },
        {
          "output_type": "stream",
          "name": "stdout",
          "text": [
            "INFO - 2024-04-23T00:35:27Z - Downloading using service arco-geo-series...\n"
          ]
        },
        {
          "output_type": "stream",
          "name": "stderr",
          "text": [
            "INFO:copernicus_marine_root_logger:Downloading using service arco-geo-series...\n"
          ]
        },
        {
          "output_type": "stream",
          "name": "stdout",
          "text": [
            "INFO - 2024-04-23T00:35:29Z - <xarray.Dataset>\n",
            "Dimensions:       (time: 7671, latitude: 318, longitude: 1089)\n",
            "Coordinates:\n",
            "  * latitude      (latitude) float32 30.12 30.18 30.23 ... 45.92 45.97 46.03\n",
            "  * longitude     (longitude) float32 -18.12 -18.07 -18.02 ... 36.22 36.27 36.33\n",
            "  * time          (time) datetime64[ns] 2000-01-01 2000-01-02 ... 2020-12-31\n",
            "Data variables:\n",
            "    analysed_sst  (time, latitude, longitude) float32 dask.array<chunksize=(2, 318, 1089), meta=np.ndarray>\n",
            "Attributes: (12/51)\n",
            "    Conventions:                CF-1.4 \n",
            "    DSD_entry_id:               -GOS-L4HRfnd-MED\n",
            "    Metadata_Conventions:       Unidata Dataset Discovery v1.0\n",
            "    Scaling_Equation:           (scale_factor*data) + add_offset\n",
            "    acknowledgment:             Please acknowledge the use of these data with...\n",
            "    cdm_data_type:              grid\n",
            "    ...                         ...\n",
            "    time_coverage_end:          19810825T070000Z\n",
            "    time_coverage_start:        19810824T190000Z\n",
            "    title:                      Mediterranean Sea SST Analysis L4, Reprocesse...\n",
            "    uuid:                        \n",
            "    westernmost_longitude:      -18.125\n",
            "    copernicusmarine_version:   1.1.1\n"
          ]
        },
        {
          "output_type": "stream",
          "name": "stderr",
          "text": [
            "INFO:copernicus_marine_root_logger:<xarray.Dataset>\n",
            "Dimensions:       (time: 7671, latitude: 318, longitude: 1089)\n",
            "Coordinates:\n",
            "  * latitude      (latitude) float32 30.12 30.18 30.23 ... 45.92 45.97 46.03\n",
            "  * longitude     (longitude) float32 -18.12 -18.07 -18.02 ... 36.22 36.27 36.33\n",
            "  * time          (time) datetime64[ns] 2000-01-01 2000-01-02 ... 2020-12-31\n",
            "Data variables:\n",
            "    analysed_sst  (time, latitude, longitude) float32 dask.array<chunksize=(2, 318, 1089), meta=np.ndarray>\n",
            "Attributes: (12/51)\n",
            "    Conventions:                CF-1.4 \n",
            "    DSD_entry_id:               -GOS-L4HRfnd-MED\n",
            "    Metadata_Conventions:       Unidata Dataset Discovery v1.0\n",
            "    Scaling_Equation:           (scale_factor*data) + add_offset\n",
            "    acknowledgment:             Please acknowledge the use of these data with...\n",
            "    cdm_data_type:              grid\n",
            "    ...                         ...\n",
            "    time_coverage_end:          19810825T070000Z\n",
            "    time_coverage_start:        19810824T190000Z\n",
            "    title:                      Mediterranean Sea SST Analysis L4, Reprocesse...\n",
            "    uuid:                        \n",
            "    westernmost_longitude:      -18.125\n",
            "    copernicusmarine_version:   1.1.1\n"
          ]
        },
        {
          "output_type": "stream",
          "name": "stdout",
          "text": [
            "INFO - 2024-04-23T00:35:29Z - Estimated size of the dataset file is 10139.247 MB.\n"
          ]
        },
        {
          "output_type": "stream",
          "name": "stderr",
          "text": [
            "INFO:copernicus_marine_root_logger:Estimated size of the dataset file is 10139.247 MB.\n"
          ]
        },
        {
          "output_type": "stream",
          "name": "stdout",
          "text": [
            "Do you want to proceed with download? [Y/n]: y\n",
            "INFO - 2024-04-23T00:35:34Z - Writing to local storage. Please wait...\n"
          ]
        },
        {
          "output_type": "stream",
          "name": "stderr",
          "text": [
            "INFO:copernicus_marine_root_logger:Writing to local storage. Please wait...\n"
          ]
        },
        {
          "output_type": "display_data",
          "data": {
            "text/plain": [
              "  0%|          | 0/26851 [00:00<?, ?it/s]"
            ],
            "application/vnd.jupyter.widget-view+json": {
              "version_major": 2,
              "version_minor": 0,
              "model_id": "c0cdec270bcc4ae0bc94a36afcf1f7f9"
            }
          },
          "metadata": {}
        },
        {
          "output_type": "stream",
          "name": "stdout",
          "text": [
            "INFO - 2024-04-23T00:46:58Z - Successfully downloaded to cmems_SST_MED_SST_L4_REP_OBSERVATIONS_010_021_analysed_sst_18.12W-36.33E_30.12N-46.03N_2000-01-01-2020-12-31.nc\n"
          ]
        },
        {
          "output_type": "stream",
          "name": "stderr",
          "text": [
            "INFO:copernicus_marine_root_logger:Successfully downloaded to cmems_SST_MED_SST_L4_REP_OBSERVATIONS_010_021_analysed_sst_18.12W-36.33E_30.12N-46.03N_2000-01-01-2020-12-31.nc\n"
          ]
        },
        {
          "output_type": "stream",
          "name": "stdout",
          "text": [
            "An error occurred: 'PosixPath' object has no attribute 'read'\n"
          ]
        }
      ],
      "source": [
        "import os\n",
        "import copernicusmarine as cm\n",
        "\n",
        "###### NOTE: CHANGE THE FOLDER PATH(google DRIVE/Local)\n",
        "# Specify the full folder path\n",
        "folder_path = 'C:/Users/aradh/OneDrive/Desktop/sustainibility/homework1'\n",
        "\n",
        "# Create the folder if it doesn't exist\n",
        "if not os.path.exists(folder_path):\n",
        "    os.makedirs(folder_path)\n",
        "\n",
        "# Specify the path where you want to save the NetCDF file\n",
        "output_file_path = os.path.join(folder_path, 'sst_data.nc')\n",
        "\n",
        "try:\n",
        "    # Call the subset function with authentication if needed\n",
        "    # Assuming the subset function either saves the file directly or returns a path\n",
        "    # Adjust the parameters for username and password as required by your data provider\n",
        "\n",
        "    ###### NOTE: USE YOUR SEA's API BELOW\n",
        "    data = cm.subset(\n",
        "        dataset_id=\"cmems_SST_MED_SST_L4_REP_OBSERVATIONS_010_021\",\n",
        "        dataset_version=\"202007\",\n",
        "        variables=[\"analysed_sst\"],   #, \"analysis_error\", \"mask\", \"sea_ice_fraction\"],\n",
        "        minimum_longitude=-18.125,\n",
        "        maximum_longitude=36.32500076293945,\n",
        "        minimum_latitude=30.125,\n",
        "        maximum_latitude=46.025001525878906,\n",
        "    start_datetime=\"2000-01-01T00:00:00\",\n",
        "    end_datetime=\"2020-12-31T00:00:00\",\n",
        "  )\n",
        "\n",
        "    # Check how 'data' is provided by the subset function\n",
        "    if isinstance(data, str):  # Assuming it might be a path to the file\n",
        "        os.rename(data, output_file_path)  # Move file to desired directory\n",
        "        print(f\"NetCDF file moved successfully to {output_file_path}\")\n",
        "    elif data:  # Assuming it might be a file-like object\n",
        "        with open(output_file_path, 'wb') as f:\n",
        "            f.write(data.read())\n",
        "        print(f\"NetCDF file saved successfully to {output_file_path}\")\n",
        "\n",
        "except Exception as e:\n",
        "    print(f\"An error occurred: {e}\")"
      ]
    },
    {
      "cell_type": "code",
      "source": [
        "# Load the downloaded dataset\n",
        "file_path = '/content/cmems_SST_MED_SST_L4_REP_OBSERVATIONS_010_021_analysed_sst_18.12W-36.33E_30.12N-46.03N_2000-01-01-2020-12-31.nc'\n",
        "dataset = xr.open_dataset(file_path)\n",
        "\n",
        "dataset = nc.Dataset(file_path, 'r')\n",
        "# Print out the variables\n",
        "print(dataset.variables.keys())\n",
        "# Pring out the dimensions\n",
        "print(dataset.dimensions.keys())"
      ],
      "metadata": {
        "colab": {
          "base_uri": "https://localhost:8080/"
        },
        "id": "JHXMB0zmkpO5",
        "outputId": "8176fff9-7024-4165-9204-fc89e43a7e71"
      },
      "execution_count": null,
      "outputs": [
        {
          "output_type": "stream",
          "name": "stdout",
          "text": [
            "dict_keys(['analysed_sst', 'latitude', 'longitude', 'time'])\n",
            "dict_keys(['time', 'latitude', 'longitude'])\n"
          ]
        }
      ]
    },
    {
      "cell_type": "code",
      "source": [
        "#df_cleaned = dataset.to_dataframe().reset_index()\n",
        "#df = df_cleaned[['time', 'latitude', 'longitude', 'analysed_sst']]\n",
        "dataset.variables['time']"
      ],
      "metadata": {
        "colab": {
          "base_uri": "https://localhost:8080/"
        },
        "id": "Wjo215s2fIel",
        "outputId": "80fb19ea-7728-4938-fd8e-68956412e2df"
      },
      "execution_count": null,
      "outputs": [
        {
          "output_type": "execute_result",
          "data": {
            "text/plain": [
              "<class 'netCDF4._netCDF4.Variable'>\n",
              "int32 time(time)\n",
              "    valid_min: 2000-01-01T00:00:00.000000000\n",
              "    valid_max: 2020-12-31T00:00:00.000000000\n",
              "    units: seconds since 1981-01-01\n",
              "    calendar: Gregorian\n",
              "unlimited dimensions: \n",
              "current shape = (7671,)\n",
              "filling on, default _FillValue of -2147483647 used"
            ]
          },
          "metadata": {},
          "execution_count": 34
        }
      ]
    },
    {
      "cell_type": "code",
      "source": [
        "time = dataset.variables['time'][:]\n",
        "latitudes = dataset.variables['latitude'][:]\n",
        "longitudes = dataset.variables['longitude'][:]\n",
        "print(f\"Time ranges from {np.min(time)} to {np.max(time)} years\")\n",
        "print(f\"Latitude ranges from {np.min(latitudes)} to {np.max(latitudes)} degrees\")\n",
        "print(f\"Longitude ranges from {np.min(longitudes)} to {np.max(longitudes)} degrees\")"
      ],
      "metadata": {
        "colab": {
          "base_uri": "https://localhost:8080/"
        },
        "id": "HdIOvOavb4Ub",
        "outputId": "af298722-8c21-40ff-ca70-9c0e09843ee4"
      },
      "execution_count": null,
      "outputs": [
        {
          "output_type": "stream",
          "name": "stdout",
          "text": [
            "Time ranges from 599529600 to 1262217600 years\n",
            "Latitude ranges from 30.125 to 46.025001525878906 degrees\n",
            "Longitude ranges from -18.125 to 36.32500076293945 degrees\n"
          ]
        },
        {
          "output_type": "stream",
          "name": "stderr",
          "text": [
            "<ipython-input-95-833b8c310aaa>:1: UserWarning: WARNING: valid_min not used since it\n",
            "cannot be safely cast to variable data type\n",
            "  time = dataset.variables['time'][:]\n",
            "<ipython-input-95-833b8c310aaa>:1: UserWarning: WARNING: valid_max not used since it\n",
            "cannot be safely cast to variable data type\n",
            "  time = dataset.variables['time'][:]\n"
          ]
        },
        {
          "output_type": "execute_result",
          "data": {
            "text/plain": [
              "318"
            ]
          },
          "metadata": {},
          "execution_count": 95
        }
      ]
    },
    {
      "cell_type": "code",
      "source": [
        "# Extracting sea surface temperature data and removing the time dimension\n",
        "sea_surface_temperature = dataset.variables['analysed_sst'][0, :, :]  # Removed time dimension here\n",
        "sea_surface_temperature_fahrenheit = (sea_surface_temperature - 273.15) * 9/5 + 32"
      ],
      "metadata": {
        "id": "sDnXRtJ2cGVp"
      },
      "execution_count": null,
      "outputs": []
    },
    {
      "cell_type": "code",
      "source": [
        "fig, ax = plt.subplots(subplot_kw={'projection': ccrs.PlateCarree()})\n",
        "\n",
        "# Plot the data on a map using contourf\n",
        "# It should be in the order of longitude, latitudes and sst\n",
        "contour = ax.contourf(longitudes, latitudes, sea_surface_temperature_fahrenheit, transform=ccrs.PlateCarree())\n",
        "ax.coastlines()\n",
        "\n",
        "cbar = plt.colorbar(contour)\n",
        "cbar.set_label('Fahrenheit')\n",
        "\n",
        "# Name the map 'Ocean Temperature Map'\n",
        "plt.title('Ocean Temperature of Mediterranean Sea')\n",
        "plt.show()"
      ],
      "metadata": {
        "colab": {
          "base_uri": "https://localhost:8080/",
          "height": 420
        },
        "id": "M7ij7rDhcQms",
        "outputId": "72bf23f1-5951-456f-d47d-3224f104503f"
      },
      "execution_count": null,
      "outputs": [
        {
          "output_type": "display_data",
          "data": {
            "text/plain": [
              "<Figure size 640x480 with 2 Axes>"
            ],
            "image/png": "[encoded data removed]"
          },
          "metadata": {}
        }
      ]
    },
    {
      "cell_type": "code",
      "source": [
        "import pandas as pd\n",
        "from datetime import datetime, timedelta\n",
        "\n",
        "# Reshape arrays if necessary to ensure they have the same length\n",
        "time_flat = time.flatten()\n",
        "latitude_flat = latitudes.flatten()\n",
        "longitude_flat = longitudes.flatten()\n",
        "sea_surface_temperature_flat = sea_surface_temperature.flatten()\n",
        "sea_surface_temperature_fahrenheit_flat = sea_surface_temperature_fahrenheit.flatten()\n",
        "\n",
        "# Assuming time_flat is your numpy array of Unix timestamps\n",
        "time_dates = [datetime(1981, 1, 1) + timedelta(seconds=int(timestamp)) for timestamp in time_flat]\n",
        "\n",
        "df1 = pd.DataFrame({'Date': time_dates})\n",
        "df1_c = df1.dropna()\n",
        "#df2_c = pd.DataFrame({'Latitude': latitude_flat})\n",
        "#df2_c = df2.dropna()\n",
        "#df3_c = pd.DataFrame({'Longitude': longitudes})\n",
        "#df3_c = df3.dropna()\n",
        "df4 = pd.DataFrame({'Sea surface temperature': sea_surface_temperature_flat})\n",
        "df4_c = df4.dropna()\n",
        "df5 = pd.DataFrame({'Sea surface temperature (Fahrenheit)': sea_surface_temperature_fahrenheit_flat})\n",
        "df5_c = df5.dropna()\n",
        "\n",
        "# Concatenate DataFrames along columns\n",
        "result_df = pd.concat([df1_c, df4_c, df5_c], axis=1)"
      ],
      "metadata": {
        "id": "v2P-BJyPlqoj"
      },
      "execution_count": null,
      "outputs": []
    },
    {
      "cell_type": "code",
      "source": [
        "# .dropna() is a useful method when you want to exclude NaN values from the dataframe\n",
        "df_cleaned = result_df.dropna(subset=['Date'])\n",
        "df_cleaned.head()"
      ],
      "metadata": {
        "colab": {
          "base_uri": "https://localhost:8080/",
          "height": 206
        },
        "id": "AvJSZ3k44Oqd",
        "outputId": "7a6c04b0-ca8b-46ed-e28c-97b8eaa967e9"
      },
      "execution_count": null,
      "outputs": [
        {
          "output_type": "execute_result",
          "data": {
            "text/plain": [
              "        Date  Sea surface temperature  Sea surface temperature (Fahrenheit)\n",
              "0 2000-01-01               292.749993                             67.279988\n",
              "1 2000-01-02               292.719993                             67.225988\n",
              "2 2000-01-03               292.689993                             67.171988\n",
              "3 2000-01-04               292.649993                             67.099988\n",
              "4 2000-01-05               292.619993                             67.045988"
            ],
            "text/html": [
              "\n",
              "  <div id=\"df-5f0e8a5f-c01c-42e4-a58f-2a070650ea4a\" class=\"colab-df-container\">\n",
              "    <div>\n",
              "<style scoped>\n",
              "    .dataframe tbody tr th:only-of-type {\n",
              "        vertical-align: middle;\n",
              "    }\n",
              "\n",
              "    .dataframe tbody tr th {\n",
              "        vertical-align: top;\n",
              "    }\n",
              "\n",
              "    .dataframe thead th {\n",
              "        text-align: right;\n",
              "    }\n",
              "</style>\n",
              "<table border=\"1\" class=\"dataframe\">\n",
              "  <thead>\n",
              "    <tr style=\"text-align: right;\">\n",
              "      <th></th>\n",
              "      <th>Date</th>\n",
              "      <th>Sea surface temperature</th>\n",
              "      <th>Sea surface temperature (Fahrenheit)</th>\n",
              "    </tr>\n",
              "  </thead>\n",
              "  <tbody>\n",
              "    <tr>\n",
              "      <th>0</th>\n",
              "      <td>2000-01-01</td>\n",
              "      <td>292.749993</td>\n",
              "      <td>67.279988</td>\n",
              "    </tr>\n",
              "    <tr>\n",
              "      <th>1</th>\n",
              "      <td>2000-01-02</td>\n",
              "      <td>292.719993</td>\n",
              "      <td>67.225988</td>\n",
              "    </tr>\n",
              "    <tr>\n",
              "      <th>2</th>\n",
              "      <td>2000-01-03</td>\n",
              "      <td>292.689993</td>\n",
              "      <td>67.171988</td>\n",
              "    </tr>\n",
              "    <tr>\n",
              "      <th>3</th>\n",
              "      <td>2000-01-04</td>\n",
              "      <td>292.649993</td>\n",
              "      <td>67.099988</td>\n",
              "    </tr>\n",
              "    <tr>\n",
              "      <th>4</th>\n",
              "      <td>2000-01-05</td>\n",
              "      <td>292.619993</td>\n",
              "      <td>67.045988</td>\n",
              "    </tr>\n",
              "  </tbody>\n",
              "</table>\n",
              "</div>\n",
              "    <div class=\"colab-df-buttons\">\n",
              "\n",
              "  <div class=\"colab-df-container\">\n",
              "    <button class=\"colab-df-convert\" onclick=\"convertToInteractive('df-5f0e8a5f-c01c-42e4-a58f-2a070650ea4a')\"\n",
              "            title=\"Convert this dataframe to an interactive table.\"\n",
              "            style=\"display:none;\">\n",
              "\n",
              "  <svg xmlns=\"http://www.w3.org/2000/svg\" height=\"24px\" viewBox=\"0 -960 960 960\">\n",
              "    <path d=\"M120-120v-720h720v720H120Zm60-500h600v-160H180v160Zm220 220h160v-160H400v160Zm0 220h160v-160H400v160ZM180-400h160v-160H180v160Zm440 0h160v-160H620v160ZM180-180h160v-160H180v160Zm440 0h160v-160H620v160Z\"/>\n",
              "  </svg>\n",
              "    </button>\n",
              "\n",
              "  <style>\n",
              "    .colab-df-container {\n",
              "      display:flex;\n",
              "      gap: 12px;\n",
              "    }\n",
              "\n",
              "    .colab-df-convert {\n",
              "      background-color: #E8F0FE;\n",
              "      border: none;\n",
              "      border-radius: 50%;\n",
              "      cursor: pointer;\n",
              "      display: none;\n",
              "      fill: #1967D2;\n",
              "      height: 32px;\n",
              "      padding: 0 0 0 0;\n",
              "      width: 32px;\n",
              "    }\n",
              "\n",
              "    .colab-df-convert:hover {\n",
              "      background-color: #E2EBFA;\n",
              "      box-shadow: 0px 1px 2px rgba(60, 64, 67, 0.3), 0px 1px 3px 1px rgba(60, 64, 67, 0.15);\n",
              "      fill: #174EA6;\n",
              "    }\n",
              "\n",
              "    .colab-df-buttons div {\n",
              "      margin-bottom: 4px;\n",
              "    }\n",
              "\n",
              "    [theme=dark] .colab-df-convert {\n",
              "      background-color: #3B4455;\n",
              "      fill: #D2E3FC;\n",
              "    }\n",
              "\n",
              "    [theme=dark] .colab-df-convert:hover {\n",
              "      background-color: #434B5C;\n",
              "      box-shadow: 0px 1px 3px 1px rgba(0, 0, 0, 0.15);\n",
              "      filter: drop-shadow(0px 1px 2px rgba(0, 0, 0, 0.3));\n",
              "      fill: #FFFFFF;\n",
              "    }\n",
              "  </style>\n",
              "\n",
              "    <script>\n",
              "      const buttonEl =\n",
              "        document.querySelector('#df-5f0e8a5f-c01c-42e4-a58f-2a070650ea4a button.colab-df-convert');\n",
              "      buttonEl.style.display =\n",
              "        google.colab.kernel.accessAllowed ? 'block' : 'none';\n",
              "\n",
              "      async function convertToInteractive(key) {\n",
              "        const element = document.querySelector('#df-5f0e8a5f-c01c-42e4-a58f-2a070650ea4a');\n",
              "        const dataTable =\n",
              "          await google.colab.kernel.invokeFunction('convertToInteractive',\n",
              "                                                    [key], {});\n",
              "        if (!dataTable) return;\n",
              "\n",
              "        const docLinkHtml = 'Like what you see? Visit the ' +\n",
              "          '<a target=\"_blank\" href=https://colab.research.google.com/notebooks/data_table.ipynb>data table notebook</a>'\n",
              "          + ' to learn more about interactive tables.';\n",
              "        element.innerHTML = '';\n",
              "        dataTable['output_type'] = 'display_data';\n",
              "        await google.colab.output.renderOutput(dataTable, element);\n",
              "        const docLink = document.createElement('div');\n",
              "        docLink.innerHTML = docLinkHtml;\n",
              "        element.appendChild(docLink);\n",
              "      }\n",
              "    </script>\n",
              "  </div>\n",
              "\n",
              "\n",
              "<div id=\"df-d89a8dcb-20dc-44ea-add3-6130fd8ed2a0\">\n",
              "  <button class=\"colab-df-quickchart\" onclick=\"quickchart('df-d89a8dcb-20dc-44ea-add3-6130fd8ed2a0')\"\n",
              "            title=\"Suggest charts\"\n",
              "            style=\"display:none;\">\n",
              "\n",
              "<svg xmlns=\"http://www.w3.org/2000/svg\" height=\"24px\"viewBox=\"0 0 24 24\"\n",
              "     width=\"24px\">\n",
              "    <g>\n",
              "        <path d=\"M19 3H5c-1.1 0-2 .9-2 2v14c0 1.1.9 2 2 2h14c1.1 0 2-.9 2-2V5c0-1.1-.9-2-2-2zM9 17H7v-7h2v7zm4 0h-2V7h2v10zm4 0h-2v-4h2v4z\"/>\n",
              "    </g>\n",
              "</svg>\n",
              "  </button>\n",
              "\n",
              "<style>\n",
              "  .colab-df-quickchart {\n",
              "      --bg-color: #E8F0FE;\n",
              "      --fill-color: #1967D2;\n",
              "      --hover-bg-color: #E2EBFA;\n",
              "      --hover-fill-color: #174EA6;\n",
              "      --disabled-fill-color: #AAA;\n",
              "      --disabled-bg-color: #DDD;\n",
              "  }\n",
              "\n",
              "  [theme=dark] .colab-df-quickchart {\n",
              "      --bg-color: #3B4455;\n",
              "      --fill-color: #D2E3FC;\n",
              "      --hover-bg-color: #434B5C;\n",
              "      --hover-fill-color: #FFFFFF;\n",
              "      --disabled-bg-color: #3B4455;\n",
              "      --disabled-fill-color: #666;\n",
              "  }\n",
              "\n",
              "  .colab-df-quickchart {\n",
              "    background-color: var(--bg-color);\n",
              "    border: none;\n",
              "    border-radius: 50%;\n",
              "    cursor: pointer;\n",
              "    display: none;\n",
              "    fill: var(--fill-color);\n",
              "    height: 32px;\n",
              "    padding: 0;\n",
              "    width: 32px;\n",
              "  }\n",
              "\n",
              "  .colab-df-quickchart:hover {\n",
              "    background-color: var(--hover-bg-color);\n",
              "    box-shadow: 0 1px 2px rgba(60, 64, 67, 0.3), 0 1px 3px 1px rgba(60, 64, 67, 0.15);\n",
              "    fill: var(--button-hover-fill-color);\n",
              "  }\n",
              "\n",
              "  .colab-df-quickchart-complete:disabled,\n",
              "  .colab-df-quickchart-complete:disabled:hover {\n",
              "    background-color: var(--disabled-bg-color);\n",
              "    fill: var(--disabled-fill-color);\n",
              "    box-shadow: none;\n",
              "  }\n",
              "\n",
              "  .colab-df-spinner {\n",
              "    border: 2px solid var(--fill-color);\n",
              "    border-color: transparent;\n",
              "    border-bottom-color: var(--fill-color);\n",
              "    animation:\n",
              "      spin 1s steps(1) infinite;\n",
              "  }\n",
              "\n",
              "  @keyframes spin {\n",
              "    0% {\n",
              "      border-color: transparent;\n",
              "      border-bottom-color: var(--fill-color);\n",
              "      border-left-color: var(--fill-color);\n",
              "    }\n",
              "    20% {\n",
              "      border-color: transparent;\n",
              "      border-left-color: var(--fill-color);\n",
              "      border-top-color: var(--fill-color);\n",
              "    }\n",
              "    30% {\n",
              "      border-color: transparent;\n",
              "      border-left-color: var(--fill-color);\n",
              "      border-top-color: var(--fill-color);\n",
              "      border-right-color: var(--fill-color);\n",
              "    }\n",
              "    40% {\n",
              "      border-color: transparent;\n",
              "      border-right-color: var(--fill-color);\n",
              "      border-top-color: var(--fill-color);\n",
              "    }\n",
              "    60% {\n",
              "      border-color: transparent;\n",
              "      border-right-color: var(--fill-color);\n",
              "    }\n",
              "    80% {\n",
              "      border-color: transparent;\n",
              "      border-right-color: var(--fill-color);\n",
              "      border-bottom-color: var(--fill-color);\n",
              "    }\n",
              "    90% {\n",
              "      border-color: transparent;\n",
              "      border-bottom-color: var(--fill-color);\n",
              "    }\n",
              "  }\n",
              "</style>\n",
              "\n",
              "  <script>\n",
              "    async function quickchart(key) {\n",
              "      const quickchartButtonEl =\n",
              "        document.querySelector('#' + key + ' button');\n",
              "      quickchartButtonEl.disabled = true;  // To prevent multiple clicks.\n",
              "      quickchartButtonEl.classList.add('colab-df-spinner');\n",
              "      try {\n",
              "        const charts = await google.colab.kernel.invokeFunction(\n",
              "            'suggestCharts', [key], {});\n",
              "      } catch (error) {\n",
              "        console.error('Error during call to suggestCharts:', error);\n",
              "      }\n",
              "      quickchartButtonEl.classList.remove('colab-df-spinner');\n",
              "      quickchartButtonEl.classList.add('colab-df-quickchart-complete');\n",
              "    }\n",
              "    (() => {\n",
              "      let quickchartButtonEl =\n",
              "        document.querySelector('#df-d89a8dcb-20dc-44ea-add3-6130fd8ed2a0 button');\n",
              "      quickchartButtonEl.style.display =\n",
              "        google.colab.kernel.accessAllowed ? 'block' : 'none';\n",
              "    })();\n",
              "  </script>\n",
              "</div>\n",
              "    </div>\n",
              "  </div>\n"
            ],
            "application/vnd.google.colaboratory.intrinsic+json": {
              "type": "dataframe",
              "variable_name": "df_cleaned",
              "summary": "{\n  \"name\": \"df_cleaned\",\n  \"rows\": 7671,\n  \"fields\": [\n    {\n      \"column\": \"Date\",\n      \"properties\": {\n        \"dtype\": \"date\",\n        \"min\": \"2000-01-01 00:00:00\",\n        \"max\": \"2020-12-31 00:00:00\",\n        \"num_unique_values\": 7671,\n        \"samples\": [\n          \"2017-09-04 00:00:00\",\n          \"2009-02-15 00:00:00\",\n          \"2015-09-07 00:00:00\"\n        ],\n        \"semantic_type\": \"\",\n        \"description\": \"\"\n      }\n    },\n    {\n      \"column\": \"Sea surface temperature\",\n      \"properties\": {\n        \"dtype\": \"number\",\n        \"std\": 1.1217327167081281,\n        \"min\": 288.6899935491383,\n        \"max\": 292.7799934577197,\n        \"num_unique_values\": 322,\n        \"samples\": [\n          291.7399934809655,\n          292.33999346755445,\n          289.6599935274571\n        ],\n        \"semantic_type\": \"\",\n        \"description\": \"\"\n      }\n    },\n    {\n      \"column\": \"Sea surface temperature (Fahrenheit)\",\n      \"properties\": {\n        \"dtype\": \"number\",\n        \"std\": 2.019118890074631,\n        \"min\": 59.97198838844899,\n        \"max\": 67.33398822389547,\n        \"num_unique_values\": 322,\n        \"samples\": [\n          65.46198826573793,\n          66.54198824159805,\n          61.71798834942285\n        ],\n        \"semantic_type\": \"\",\n        \"description\": \"\"\n      }\n    }\n  ]\n}"
            }
          },
          "metadata": {},
          "execution_count": 108
        }
      ]
    },
    {
      "cell_type": "code",
      "source": [
        "import pandas as pd\n",
        "from sklearn.linear_model import LinearRegression\n",
        "from sklearn.metrics import mean_absolute_percentage_error\n",
        "\n",
        "# Assuming df_cleaned already contains the data\n",
        "\n",
        "# Splitting the data into train and test sets\n",
        "train_df = df_cleaned[:-4]\n",
        "test_df = df_cleaned[-4:]\n",
        "\n",
        "train_df.interpolate(method='linear', inplace=True)\n",
        "\n",
        "# Prepare features and target variable for training\n",
        "X_train = train_df.index.values.reshape(-1, 1)\n",
        "y_train = train_df['Sea surface temperature'].values\n",
        "\n",
        "# Initialize and train the linear regression model\n",
        "model = LinearRegression()\n",
        "model.fit(X_train, y_train)\n",
        "\n",
        "# Generating predictions for the next four years\n",
        "next_four_years = list(range(2023, 2027))\n",
        "X_pred = pd.DataFrame(next_four_years, columns=['Year']).values.reshape(-1, 1)\n",
        "predictions = model.predict(X_pred)\n",
        "\n",
        "# Printing the predictions for the next four years\n",
        "print(\"Predictions for the next four years:\")\n",
        "for year, temp in zip(next_four_years, predictions):\n",
        "    print(f\"Year {year}: {temp:.2f} K\")\n",
        "\n",
        "# Evaluating the model using Mean Absolute Percentage Error (MAPE) on the test set\n",
        "X_test = test_df.index.values.reshape(-1, 1)\n",
        "y_test = test_df['Sea surface temperature'].values\n",
        "test_predictions = model.predict(X_test)\n",
        "mape = mean_absolute_percentage_error(y_test, test_predictions)\n",
        "print(f\"\\nThe Mean Absolute Percentage Error (MAPE): {mape:.2%}\")\n"
      ],
      "metadata": {
        "colab": {
          "base_uri": "https://localhost:8080/"
        },
        "id": "RU3BOwuu9yVi",
        "outputId": "c52fd026-a870-47b8-d1a2-8f3978923ffd"
      },
      "execution_count": null,
      "outputs": [
        {
          "output_type": "stream",
          "name": "stdout",
          "text": [
            "Predictions for the next four years:\n",
            "Year 2023: 290.80 K\n",
            "Year 2024: 290.81 K\n",
            "Year 2025: 290.81 K\n",
            "Year 2026: 290.81 K\n",
            "\n",
            "The Mean Absolute Percentage Error (MAPE): 0.05%\n"
          ]
        },
        {
          "output_type": "stream",
          "name": "stderr",
          "text": [
            "<ipython-input-110-38762cb80f3c>:11: SettingWithCopyWarning: \n",
            "A value is trying to be set on a copy of a slice from a DataFrame\n",
            "\n",
            "See the caveats in the documentation: https://pandas.pydata.org/pandas-docs/stable/user_guide/indexing.html#returning-a-view-versus-a-copy\n",
            "  train_df.interpolate(method='linear', inplace=True)\n"
          ]
        }
      ]
    }
  ],
  "metadata": {
    "colab": {
      "provenance": [],
      "authorship_tag": "ABX9TyMSOuHR1MFQxgOiXi8TrUlS",
      "include_colab_link": true
    },
    "kernelspec": {
      "display_name": "Python 3",
      "name": "python3"
    },
    "language_info": {
      "name": "python"
    },
    "widgets": {
      "application/vnd.jupyter.widget-state+json": {
        "c0cdec270bcc4ae0bc94a36afcf1f7f9": {
          "model_module": "@jupyter-widgets/controls",
          "model_name": "HBoxModel",
          "model_module_version": "1.5.0",
          "state": {
            "_dom_classes": [],
            "_model_module": "@jupyter-widgets/controls",
            "_model_module_version": "1.5.0",
            "_model_name": "HBoxModel",
            "_view_count": null,
            "_view_module": "@jupyter-widgets/controls",
            "_view_module_version": "1.5.0",
            "_view_name": "HBoxView",
            "box_style": "",
            "children": [
              "IPY_MODEL_153b703dbb734675b07e809cd60092af",
              "IPY_MODEL_acde9e5094704b5a998fd6618082b4a2",
              "IPY_MODEL_3d2075a54be740d198c6499a84ab81d8"
            ],
            "layout": "IPY_MODEL_b8fbc5fc6dbd47c8bcc0466e2e8fb69a"
          }
        },
        "153b703dbb734675b07e809cd60092af": {
          "model_module": "@jupyter-widgets/controls",
          "model_name": "HTMLModel",
          "model_module_version": "1.5.0",
          "state": {
            "_dom_classes": [],
            "_model_module": "@jupyter-widgets/controls",
            "_model_module_version": "1.5.0",
            "_model_name": "HTMLModel",
            "_view_count": null,
            "_view_module": "@jupyter-widgets/controls",
            "_view_module_version": "1.5.0",
            "_view_name": "HTMLView",
            "description": "",
            "description_tooltip": null,
            "layout": "IPY_MODEL_20be9b09bee440078b33da3f7f1e93e2",
            "placeholder": "​",
            "style": "IPY_MODEL_e4ba5152392a41e3a8a654372ad9297f",
            "value": "100%"
          }
        },
        "acde9e5094704b5a998fd6618082b4a2": {
          "model_module": "@jupyter-widgets/controls",
          "model_name": "FloatProgressModel",
          "model_module_version": "1.5.0",
          "state": {
            "_dom_classes": [],
            "_model_module": "@jupyter-widgets/controls",
            "_model_module_version": "1.5.0",
            "_model_name": "FloatProgressModel",
            "_view_count": null,
            "_view_module": "@jupyter-widgets/controls",
            "_view_module_version": "1.5.0",
            "_view_name": "ProgressView",
            "bar_style": "success",
            "description": "",
            "description_tooltip": null,
            "layout": "IPY_MODEL_4ee0f080f8b84b0db9450854d3de959b",
            "max": 26851,
            "min": 0,
            "orientation": "horizontal",
            "style": "IPY_MODEL_43edb2d8366e45cd8bc889ad704e26ac",
            "value": 26851
          }
        },
        "3d2075a54be740d198c6499a84ab81d8": {
          "model_module": "@jupyter-widgets/controls",
          "model_name": "HTMLModel",
          "model_module_version": "1.5.0",
          "state": {
            "_dom_classes": [],
            "_model_module": "@jupyter-widgets/controls",
            "_model_module_version": "1.5.0",
            "_model_name": "HTMLModel",
            "_view_count": null,
            "_view_module": "@jupyter-widgets/controls",
            "_view_module_version": "1.5.0",
            "_view_name": "HTMLView",
            "description": "",
            "description_tooltip": null,
            "layout": "IPY_MODEL_556d3be1a320480ebcad2f072a8b8bb0",
            "placeholder": "​",
            "style": "IPY_MODEL_e60c00c397fc44ceaecf5692abb5b90c",
            "value": " 26851/26851 [11:20&lt;00:00, 58.34it/s]"
          }
        },
        "b8fbc5fc6dbd47c8bcc0466e2e8fb69a": {
          "model_module": "@jupyter-widgets/base",
          "model_name": "LayoutModel",
          "model_module_version": "1.2.0",
          "state": {
            "_model_module": "@jupyter-widgets/base",
            "_model_module_version": "1.2.0",
            "_model_name": "LayoutModel",
            "_view_count": null,
            "_view_module": "@jupyter-widgets/base",
            "_view_module_version": "1.2.0",
            "_view_name": "LayoutView",
            "align_content": null,
            "align_items": null,
            "align_self": null,
            "border": null,
            "bottom": null,
            "display": null,
            "flex": null,
            "flex_flow": null,
            "grid_area": null,
            "grid_auto_columns": null,
            "grid_auto_flow": null,
            "grid_auto_rows": null,
            "grid_column": null,
            "grid_gap": null,
            "grid_row": null,
            "grid_template_areas": null,
            "grid_template_columns": null,
            "grid_template_rows": null,
            "height": null,
            "justify_content": null,
            "justify_items": null,
            "left": null,
            "margin": null,
            "max_height": null,
            "max_width": null,
            "min_height": null,
            "min_width": null,
            "object_fit": null,
            "object_position": null,
            "order": null,
            "overflow": null,
            "overflow_x": null,
            "overflow_y": null,
            "padding": null,
            "right": null,
            "top": null,
            "visibility": null,
            "width": null
          }
        },
        "20be9b09bee440078b33da3f7f1e93e2": {
          "model_module": "@jupyter-widgets/base",
          "model_name": "LayoutModel",
          "model_module_version": "1.2.0",
          "state": {
            "_model_module": "@jupyter-widgets/base",
            "_model_module_version": "1.2.0",
            "_model_name": "LayoutModel",
            "_view_count": null,
            "_view_module": "@jupyter-widgets/base",
            "_view_module_version": "1.2.0",
            "_view_name": "LayoutView",
            "align_content": null,
            "align_items": null,
            "align_self": null,
            "border": null,
            "bottom": null,
            "display": null,
            "flex": null,
            "flex_flow": null,
            "grid_area": null,
            "grid_auto_columns": null,
            "grid_auto_flow": null,
            "grid_auto_rows": null,
            "grid_column": null,
            "grid_gap": null,
            "grid_row": null,
            "grid_template_areas": null,
            "grid_template_columns": null,
            "grid_template_rows": null,
            "height": null,
            "justify_content": null,
            "justify_items": null,
            "left": null,
            "margin": null,
            "max_height": null,
            "max_width": null,
            "min_height": null,
            "min_width": null,
            "object_fit": null,
            "object_position": null,
            "order": null,
            "overflow": null,
            "overflow_x": null,
            "overflow_y": null,
            "padding": null,
            "right": null,
            "top": null,
            "visibility": null,
            "width": null
          }
        },
        "e4ba5152392a41e3a8a654372ad9297f": {
          "model_module": "@jupyter-widgets/controls",
          "model_name": "DescriptionStyleModel",
          "model_module_version": "1.5.0",
          "state": {
            "_model_module": "@jupyter-widgets/controls",
            "_model_module_version": "1.5.0",
            "_model_name": "DescriptionStyleModel",
            "_view_count": null,
            "_view_module": "@jupyter-widgets/base",
            "_view_module_version": "1.2.0",
            "_view_name": "StyleView",
            "description_width": ""
          }
        },
        "4ee0f080f8b84b0db9450854d3de959b": {
          "model_module": "@jupyter-widgets/base",
          "model_name": "LayoutModel",
          "model_module_version": "1.2.0",
          "state": {
            "_model_module": "@jupyter-widgets/base",
            "_model_module_version": "1.2.0",
            "_model_name": "LayoutModel",
            "_view_count": null,
            "_view_module": "@jupyter-widgets/base",
            "_view_module_version": "1.2.0",
            "_view_name": "LayoutView",
            "align_content": null,
            "align_items": null,
            "align_self": null,
            "border": null,
            "bottom": null,
            "display": null,
            "flex": null,
            "flex_flow": null,
            "grid_area": null,
            "grid_auto_columns": null,
            "grid_auto_flow": null,
            "grid_auto_rows": null,
            "grid_column": null,
            "grid_gap": null,
            "grid_row": null,
            "grid_template_areas": null,
            "grid_template_columns": null,
            "grid_template_rows": null,
            "height": null,
            "justify_content": null,
            "justify_items": null,
            "left": null,
            "margin": null,
            "max_height": null,
            "max_width": null,
            "min_height": null,
            "min_width": null,
            "object_fit": null,
            "object_position": null,
            "order": null,
            "overflow": null,
            "overflow_x": null,
            "overflow_y": null,
            "padding": null,
            "right": null,
            "top": null,
            "visibility": null,
            "width": null
          }
        },
        "43edb2d8366e45cd8bc889ad704e26ac": {
          "model_module": "@jupyter-widgets/controls",
          "model_name": "ProgressStyleModel",
          "model_module_version": "1.5.0",
          "state": {
            "_model_module": "@jupyter-widgets/controls",
            "_model_module_version": "1.5.0",
            "_model_name": "ProgressStyleModel",
            "_view_count": null,
            "_view_module": "@jupyter-widgets/base",
            "_view_module_version": "1.2.0",
            "_view_name": "StyleView",
            "bar_color": null,
            "description_width": ""
          }
        },
        "556d3be1a320480ebcad2f072a8b8bb0": {
          "model_module": "@jupyter-widgets/base",
          "model_name": "LayoutModel",
          "model_module_version": "1.2.0",
          "state": {
            "_model_module": "@jupyter-widgets/base",
            "_model_module_version": "1.2.0",
            "_model_name": "LayoutModel",
            "_view_count": null,
            "_view_module": "@jupyter-widgets/base",
            "_view_module_version": "1.2.0",
            "_view_name": "LayoutView",
            "align_content": null,
            "align_items": null,
            "align_self": null,
            "border": null,
            "bottom": null,
            "display": null,
            "flex": null,
            "flex_flow": null,
            "grid_area": null,
            "grid_auto_columns": null,
            "grid_auto_flow": null,
            "grid_auto_rows": null,
            "grid_column": null,
            "grid_gap": null,
            "grid_row": null,
            "grid_template_areas": null,
            "grid_template_columns": null,
            "grid_template_rows": null,
            "height": null,
            "justify_content": null,
            "justify_items": null,
            "left": null,
            "margin": null,
            "max_height": null,
            "max_width": null,
            "min_height": null,
            "min_width": null,
            "object_fit": null,
            "object_position": null,
            "order": null,
            "overflow": null,
            "overflow_x": null,
            "overflow_y": null,
            "padding": null,
            "right": null,
            "top": null,
            "visibility": null,
            "width": null
          }
        },
        "e60c00c397fc44ceaecf5692abb5b90c": {
          "model_module": "@jupyter-widgets/controls",
          "model_name": "DescriptionStyleModel",
          "model_module_version": "1.5.0",
          "state": {
            "_model_module": "@jupyter-widgets/controls",
            "_model_module_version": "1.5.0",
            "_model_name": "DescriptionStyleModel",
            "_view_count": null,
            "_view_module": "@jupyter-widgets/base",
            "_view_module_version": "1.2.0",
            "_view_name": "StyleView",
            "description_width": ""
          }
        }
      }
    }
  },
  "nbformat": 4,
  "nbformat_minor": 0
}